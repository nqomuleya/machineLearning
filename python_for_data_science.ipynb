{
 "cells": [
  {
   "cell_type": "code",
   "execution_count": 12,
   "metadata": {},
   "outputs": [],
   "source": [
    "import numpy as np # linear algebra\n",
    "import pandas as pd # data processing, CSV file I/O (e.g. pd.read_csv)\n",
    "import matplotlib.pyplot as plt\n",
    "import seaborn as sns\n",
    "import plotly.express as px\n",
    "\n",
    "from sklearn.decomposition import PCA\n",
    "from sklearn.preprocessing import StandardScaler, Normalizer\n",
    "from sklearn.cluster import KMeans\n",
    "from sklearn import metrics"
   ]
  },
  {
   "cell_type": "code",
   "execution_count": 13,
   "metadata": {},
   "outputs": [],
   "source": [
    "import os \n",
    "#os.getcwd()\n",
    "os.chdir(\"C:\\\\Users\\\\ADMIN\\\\OneDrive - Rigorous Statistics\\\\clients work_Desktop\\\\Ergotech\\\\Didi\")"
   ]
  },
  {
   "cell_type": "code",
   "execution_count": 14,
   "metadata": {},
   "outputs": [],
   "source": [
    "data = pd.read_excel('data.xlsx')"
   ]
  },
  {
   "cell_type": "code",
   "execution_count": 15,
   "metadata": {},
   "outputs": [
    {
     "data": {
      "text/html": [
       "<div>\n",
       "<style scoped>\n",
       "    .dataframe tbody tr th:only-of-type {\n",
       "        vertical-align: middle;\n",
       "    }\n",
       "\n",
       "    .dataframe tbody tr th {\n",
       "        vertical-align: top;\n",
       "    }\n",
       "\n",
       "    .dataframe thead th {\n",
       "        text-align: right;\n",
       "    }\n",
       "</style>\n",
       "<table border=\"1\" class=\"dataframe\">\n",
       "  <thead>\n",
       "    <tr style=\"text-align: right;\">\n",
       "      <th></th>\n",
       "      <th>Gender</th>\n",
       "      <th>H1</th>\n",
       "      <th>H2</th>\n",
       "      <th>H5</th>\n",
       "      <th>H6</th>\n",
       "      <th>C1</th>\n",
       "    </tr>\n",
       "  </thead>\n",
       "  <tbody>\n",
       "    <tr>\n",
       "      <th>0</th>\n",
       "      <td>F</td>\n",
       "      <td>200.0</td>\n",
       "      <td>125.0</td>\n",
       "      <td>73.0</td>\n",
       "      <td>100.0</td>\n",
       "      <td>571.0</td>\n",
       "    </tr>\n",
       "    <tr>\n",
       "      <th>1</th>\n",
       "      <td>F</td>\n",
       "      <td>179.0</td>\n",
       "      <td>135.0</td>\n",
       "      <td>41.0</td>\n",
       "      <td>111.0</td>\n",
       "      <td>522.0</td>\n",
       "    </tr>\n",
       "    <tr>\n",
       "      <th>2</th>\n",
       "      <td>F</td>\n",
       "      <td>185.0</td>\n",
       "      <td>130.0</td>\n",
       "      <td>56.0</td>\n",
       "      <td>126.0</td>\n",
       "      <td>562.0</td>\n",
       "    </tr>\n",
       "    <tr>\n",
       "      <th>3</th>\n",
       "      <td>F</td>\n",
       "      <td>183.0</td>\n",
       "      <td>136.0</td>\n",
       "      <td>45.0</td>\n",
       "      <td>95.0</td>\n",
       "      <td>531.0</td>\n",
       "    </tr>\n",
       "    <tr>\n",
       "      <th>4</th>\n",
       "      <td>F</td>\n",
       "      <td>191.0</td>\n",
       "      <td>126.0</td>\n",
       "      <td>93.0</td>\n",
       "      <td>124.0</td>\n",
       "      <td>559.0</td>\n",
       "    </tr>\n",
       "  </tbody>\n",
       "</table>\n",
       "</div>"
      ],
      "text/plain": [
       "  Gender     H1     H2    H5     H6     C1\n",
       "0      F  200.0  125.0  73.0  100.0  571.0\n",
       "1      F  179.0  135.0  41.0  111.0  522.0\n",
       "2      F  185.0  130.0  56.0  126.0  562.0\n",
       "3      F  183.0  136.0  45.0   95.0  531.0\n",
       "4      F  191.0  126.0  93.0  124.0  559.0"
      ]
     },
     "execution_count": 15,
     "metadata": {},
     "output_type": "execute_result"
    }
   ],
   "source": [
    "data.head()"
   ]
  },
  {
   "cell_type": "code",
   "execution_count": 19,
   "metadata": {},
   "outputs": [
    {
     "name": "stderr",
     "output_type": "stream",
     "text": [
      "C:\\Users\\ADMIN\\AppData\\Local\\Temp\\ipykernel_15788\\2241761295.py:3: SettingWithCopyWarning: \n",
      "A value is trying to be set on a copy of a slice from a DataFrame.\n",
      "Try using .loc[row_indexer,col_indexer] = value instead\n",
      "\n",
      "See the caveats in the documentation: https://pandas.pydata.org/pandas-docs/stable/user_guide/indexing.html#returning-a-view-versus-a-copy\n",
      "  data['Gender'] = pd.factorize(data['Gender'])[0]\n"
     ]
    }
   ],
   "source": [
    "data=data.dropna()\n",
    "# convert categorical variables to numeric using pandas' factorize() method\n",
    "data['Gender'] = pd.factorize(data['Gender'])[0]"
   ]
  },
  {
   "cell_type": "code",
   "execution_count": 20,
   "metadata": {},
   "outputs": [
    {
     "data": {
      "text/html": [
       "<div>\n",
       "<style scoped>\n",
       "    .dataframe tbody tr th:only-of-type {\n",
       "        vertical-align: middle;\n",
       "    }\n",
       "\n",
       "    .dataframe tbody tr th {\n",
       "        vertical-align: top;\n",
       "    }\n",
       "\n",
       "    .dataframe thead th {\n",
       "        text-align: right;\n",
       "    }\n",
       "</style>\n",
       "<table border=\"1\" class=\"dataframe\">\n",
       "  <thead>\n",
       "    <tr style=\"text-align: right;\">\n",
       "      <th></th>\n",
       "      <th>Gender</th>\n",
       "      <th>H1</th>\n",
       "      <th>H2</th>\n",
       "      <th>H5</th>\n",
       "      <th>H6</th>\n",
       "      <th>C1</th>\n",
       "    </tr>\n",
       "  </thead>\n",
       "  <tbody>\n",
       "    <tr>\n",
       "      <th>count</th>\n",
       "      <td>8543.00</td>\n",
       "      <td>8543.00</td>\n",
       "      <td>8543.00</td>\n",
       "      <td>8543.00</td>\n",
       "      <td>8543.00</td>\n",
       "      <td>8543.00</td>\n",
       "    </tr>\n",
       "    <tr>\n",
       "      <th>mean</th>\n",
       "      <td>0.58</td>\n",
       "      <td>196.81</td>\n",
       "      <td>145.76</td>\n",
       "      <td>88.50</td>\n",
       "      <td>127.19</td>\n",
       "      <td>564.06</td>\n",
       "    </tr>\n",
       "    <tr>\n",
       "      <th>std</th>\n",
       "      <td>0.49</td>\n",
       "      <td>8.89</td>\n",
       "      <td>10.75</td>\n",
       "      <td>20.33</td>\n",
       "      <td>16.77</td>\n",
       "      <td>19.68</td>\n",
       "    </tr>\n",
       "    <tr>\n",
       "      <th>min</th>\n",
       "      <td>0.00</td>\n",
       "      <td>15.00</td>\n",
       "      <td>106.00</td>\n",
       "      <td>29.00</td>\n",
       "      <td>60.00</td>\n",
       "      <td>452.00</td>\n",
       "    </tr>\n",
       "    <tr>\n",
       "      <th>25%</th>\n",
       "      <td>0.00</td>\n",
       "      <td>191.00</td>\n",
       "      <td>140.00</td>\n",
       "      <td>75.00</td>\n",
       "      <td>120.00</td>\n",
       "      <td>551.00</td>\n",
       "    </tr>\n",
       "    <tr>\n",
       "      <th>50%</th>\n",
       "      <td>1.00</td>\n",
       "      <td>197.00</td>\n",
       "      <td>146.00</td>\n",
       "      <td>86.00</td>\n",
       "      <td>127.00</td>\n",
       "      <td>564.00</td>\n",
       "    </tr>\n",
       "    <tr>\n",
       "      <th>75%</th>\n",
       "      <td>1.00</td>\n",
       "      <td>202.00</td>\n",
       "      <td>152.00</td>\n",
       "      <td>100.00</td>\n",
       "      <td>135.00</td>\n",
       "      <td>576.00</td>\n",
       "    </tr>\n",
       "    <tr>\n",
       "      <th>max</th>\n",
       "      <td>1.00</td>\n",
       "      <td>299.00</td>\n",
       "      <td>595.00</td>\n",
       "      <td>246.00</td>\n",
       "      <td>1141.00</td>\n",
       "      <td>689.00</td>\n",
       "    </tr>\n",
       "  </tbody>\n",
       "</table>\n",
       "</div>"
      ],
      "text/plain": [
       "        Gender       H1       H2       H5       H6       C1\n",
       "count  8543.00  8543.00  8543.00  8543.00  8543.00  8543.00\n",
       "mean      0.58   196.81   145.76    88.50   127.19   564.06\n",
       "std       0.49     8.89    10.75    20.33    16.77    19.68\n",
       "min       0.00    15.00   106.00    29.00    60.00   452.00\n",
       "25%       0.00   191.00   140.00    75.00   120.00   551.00\n",
       "50%       1.00   197.00   146.00    86.00   127.00   564.00\n",
       "75%       1.00   202.00   152.00   100.00   135.00   576.00\n",
       "max       1.00   299.00   595.00   246.00  1141.00   689.00"
      ]
     },
     "execution_count": 20,
     "metadata": {},
     "output_type": "execute_result"
    }
   ],
   "source": [
    "round(data.describe(),2)"
   ]
  },
  {
   "cell_type": "code",
   "execution_count": 21,
   "metadata": {},
   "outputs": [
    {
     "data": {
      "image/png": "[encoded data removed]",
      "text/plain": [
       "<Figure size 1200x700 with 2 Axes>"
      ]
     },
     "metadata": {},
     "output_type": "display_data"
    }
   ],
   "source": [
    "plt.figure(figsize=(12,7))\n",
    "corr = data.corr()\n",
    "sns.heatmap(corr, vmin=-1, center=0, vmax=1, annot=True);"
   ]
  },
  {
   "cell_type": "code",
   "execution_count": 22,
   "metadata": {},
   "outputs": [],
   "source": [
    "scaler = StandardScaler()\n",
    "# scaler = Normalizer()\n",
    "data_scaled = scaler.fit_transform(data)"
   ]
  },
  {
   "cell_type": "code",
   "execution_count": 23,
   "metadata": {},
   "outputs": [],
   "source": [
    "pca = PCA(2, random_state=42)\n",
    "data_pca = pca.fit_transform(data_scaled)"
   ]
  },
  {
   "cell_type": "code",
   "execution_count": 24,
   "metadata": {},
   "outputs": [
    {
     "data": {
      "text/html": [
       "<div>\n",
       "<style scoped>\n",
       "    .dataframe tbody tr th:only-of-type {\n",
       "        vertical-align: middle;\n",
       "    }\n",
       "\n",
       "    .dataframe tbody tr th {\n",
       "        vertical-align: top;\n",
       "    }\n",
       "\n",
       "    .dataframe thead th {\n",
       "        text-align: right;\n",
       "    }\n",
       "</style>\n",
       "<table border=\"1\" class=\"dataframe\">\n",
       "  <thead>\n",
       "    <tr style=\"text-align: right;\">\n",
       "      <th></th>\n",
       "      <th>x</th>\n",
       "      <th>y</th>\n",
       "    </tr>\n",
       "  </thead>\n",
       "  <tbody>\n",
       "    <tr>\n",
       "      <th>0</th>\n",
       "      <td>-1.523603</td>\n",
       "      <td>-1.002787</td>\n",
       "    </tr>\n",
       "    <tr>\n",
       "      <th>1</th>\n",
       "      <td>-3.993731</td>\n",
       "      <td>-0.627588</td>\n",
       "    </tr>\n",
       "    <tr>\n",
       "      <th>2</th>\n",
       "      <td>-2.279649</td>\n",
       "      <td>-0.047300</td>\n",
       "    </tr>\n",
       "    <tr>\n",
       "      <th>3</th>\n",
       "      <td>-3.700968</td>\n",
       "      <td>-1.370005</td>\n",
       "    </tr>\n",
       "    <tr>\n",
       "      <th>4</th>\n",
       "      <td>-1.578380</td>\n",
       "      <td>0.882506</td>\n",
       "    </tr>\n",
       "    <tr>\n",
       "      <th>...</th>\n",
       "      <td>...</td>\n",
       "      <td>...</td>\n",
       "    </tr>\n",
       "    <tr>\n",
       "      <th>8538</th>\n",
       "      <td>1.596241</td>\n",
       "      <td>-0.277404</td>\n",
       "    </tr>\n",
       "    <tr>\n",
       "      <th>8539</th>\n",
       "      <td>2.524601</td>\n",
       "      <td>0.237214</td>\n",
       "    </tr>\n",
       "    <tr>\n",
       "      <th>8540</th>\n",
       "      <td>-0.107048</td>\n",
       "      <td>0.303323</td>\n",
       "    </tr>\n",
       "    <tr>\n",
       "      <th>8541</th>\n",
       "      <td>0.732727</td>\n",
       "      <td>0.360294</td>\n",
       "    </tr>\n",
       "    <tr>\n",
       "      <th>8542</th>\n",
       "      <td>1.252432</td>\n",
       "      <td>0.183093</td>\n",
       "    </tr>\n",
       "  </tbody>\n",
       "</table>\n",
       "<p>8543 rows × 2 columns</p>\n",
       "</div>"
      ],
      "text/plain": [
       "             x         y\n",
       "0    -1.523603 -1.002787\n",
       "1    -3.993731 -0.627588\n",
       "2    -2.279649 -0.047300\n",
       "3    -3.700968 -1.370005\n",
       "4    -1.578380  0.882506\n",
       "...        ...       ...\n",
       "8538  1.596241 -0.277404\n",
       "8539  2.524601  0.237214\n",
       "8540 -0.107048  0.303323\n",
       "8541  0.732727  0.360294\n",
       "8542  1.252432  0.183093\n",
       "\n",
       "[8543 rows x 2 columns]"
      ]
     },
     "execution_count": 24,
     "metadata": {},
     "output_type": "execute_result"
    }
   ],
   "source": [
    "projection = pd.DataFrame(columns=['x','y'], data=data_pca)\n",
    "projection"
   ]
  },
  {
   "cell_type": "code",
   "execution_count": 32,
   "metadata": {},
   "outputs": [],
   "source": [
    "kmeans = KMeans(n_clusters=2, random_state=42)\n",
    "\n",
    "kmeans.fit(projection)\n",
    "\n",
    "projection['cluster_pca'] = kmeans.predict(projection)"
   ]
  },
  {
   "cell_type": "code",
   "execution_count": 33,
   "metadata": {},
   "outputs": [],
   "source": [
    "centroids = kmeans.cluster_centers_\n",
    "centroids_x = centroids[:,0]\n",
    "centroids_y = centroids[:,1]"
   ]
  },
  {
   "cell_type": "code",
   "execution_count": 34,
   "metadata": {},
   "outputs": [
    {
     "data": {
      "image/png": "[encoded data removed]",
      "text/plain": [
       "<Figure size 800x600 with 1 Axes>"
      ]
     },
     "metadata": {},
     "output_type": "display_data"
    }
   ],
   "source": [
    "plt.figure(figsize=(8,6))\n",
    "sns.scatterplot(data=projection, x='x', y='y', hue='cluster_pca', palette=\"deep\");\n",
    "sns.scatterplot(x=centroids_x, y=centroids_y, marker='o', c=['black']);"
   ]
  },
  {
   "cell_type": "code",
   "execution_count": 35,
   "metadata": {},
   "outputs": [
    {
     "name": "stdout",
     "output_type": "stream",
     "text": [
      "For n_clusters = 2, silhouette score is 0.39772614607528617)\n",
      "For n_clusters = 3, silhouette score is 0.3545097629809525)\n",
      "For n_clusters = 4, silhouette score is 0.34758824228846597)\n",
      "For n_clusters = 5, silhouette score is 0.3462786877924543)\n",
      "For n_clusters = 6, silhouette score is 0.3321893020741568)\n",
      "For n_clusters = 7, silhouette score is 0.3230795092488036)\n"
     ]
    }
   ],
   "source": [
    "for n_clusters in range(2, 8):\n",
    "    clusterer = KMeans(n_clusters=n_clusters,random_state=42)\n",
    "    preds = clusterer.fit_predict(projection[['x', 'y']])\n",
    "    centers = clusterer.cluster_centers_\n",
    "\n",
    "    score = metrics.silhouette_score(projection[['x', 'y']], preds)\n",
    "    print(\"For n_clusters = {}, silhouette score is {})\".format(n_clusters, score))"
   ]
  },
  {
   "cell_type": "code",
   "execution_count": 36,
   "metadata": {},
   "outputs": [
    {
     "data": {
      "text/plain": [
       "0.5734743313179113"
      ]
     },
     "execution_count": 36,
     "metadata": {},
     "output_type": "execute_result"
    }
   ],
   "source": [
    "pca.explained_variance_ratio_.sum()"
   ]
  },
  {
   "cell_type": "code",
   "execution_count": 37,
   "metadata": {},
   "outputs": [
    {
     "name": "stderr",
     "output_type": "stream",
     "text": [
      "c:\\Users\\ADMIN\\AppData\\Local\\Programs\\Python\\Python310\\lib\\site-packages\\sklearn\\cluster\\_optics.py:903: RuntimeWarning: divide by zero encountered in divide\n",
      "  ratio = reachability_plot[:-1] / reachability_plot[1:]\n"
     ]
    },
    {
     "name": "stdout",
     "output_type": "stream",
     "text": [
      "Best model is: Gaussian Mixture\n",
      "Labels: [1 1 1 ... 1 1 1]\n"
     ]
    }
   ],
   "source": [
    "import pandas as pd\n",
    "from sklearn.cluster import KMeans, AgglomerativeClustering, DBSCAN, SpectralClustering, Birch\n",
    "from sklearn.mixture import GaussianMixture\n",
    "from sklearn.cluster import AffinityPropagation, MeanShift, OPTICS, SpectralBiclustering, MiniBatchKMeans\n",
    "\n",
    "\n",
    "# Separate features and labels\n",
    "X = data.drop(\"Gender\", axis=1)\n",
    "y = data[\"Gender\"]\n",
    "\n",
    "# Define clustering models\n",
    "kmeans = KMeans(n_clusters=2, random_state=42)\n",
    "agglo = AgglomerativeClustering(n_clusters=2)\n",
    "dbscan = DBSCAN(eps=3, min_samples=2)\n",
    "spectral = SpectralClustering(n_clusters=2, eigen_solver='arpack', affinity=\"nearest_neighbors\")\n",
    "birch = Birch(n_clusters=2)\n",
    "gaussian = GaussianMixture(n_components=2, covariance_type='full')\n",
    "affinity_prop = AffinityPropagation(damping=0.5, max_iter=200, affinity='euclidean')\n",
    "mean_shift = MeanShift(bandwidth=2)\n",
    "optics = OPTICS(min_samples=2)\n",
    "spectral_bi = SpectralBiclustering(n_clusters=2)\n",
    "mini_batch = MiniBatchKMeans(n_clusters=2)\n",
    "\n",
    "# Fit models to data\n",
    "kmeans.fit(X)\n",
    "agglo.fit(X)\n",
    "dbscan.fit(X)\n",
    "spectral.fit(X)\n",
    "birch.fit(X)\n",
    "gaussian.fit(X)\n",
    "affinity_prop.fit(X)\n",
    "mean_shift.fit(X)\n",
    "optics.fit(X)\n",
    "spectral_bi.fit(X)\n",
    "mini_batch.fit(X)\n",
    "\n",
    "# Evaluate models\n",
    "labels = [kmeans.labels_, agglo.labels_, dbscan.labels_, spectral.labels_, birch.predict(X), \n",
    "          gaussian.predict(X), affinity_prop.labels_, mean_shift.labels_, optics.labels_, \n",
    "          spectral_bi.row_labels_, mini_batch.labels_]\n",
    "names = [\"K-Means\", \"Agglomerative Clustering\", \"DBSCAN\", \"Spectral Clustering\", \"Birch\", \n",
    "         \"Gaussian Mixture\", \"Affinity Propagation\", \"Mean Shift\", \"OPTICS\", \"Spectral Biclustering\", \"Mini Batch K-Means\"]\n",
    "scores = []\n",
    "for i in range(len(labels)):\n",
    "    score = metrics.silhouette_score(X, labels[i])\n",
    "    scores.append(score)\n",
    "\n",
    "# Select best model\n",
    "best_model_index = scores.index(max(scores))\n",
    "best_model_name = names[best_model_index]\n",
    "best_model_labels = labels[best_model_index]\n",
    "\n",
    "print(\"Best model is:\", best_model_name)\n",
    "print(\"Labels:\", best_model_labels)\n"
   ]
  },
  {
   "cell_type": "code",
   "execution_count": null,
   "metadata": {},
   "outputs": [],
   "source": []
  }
 ],
 "metadata": {
  "kernelspec": {
   "display_name": "Python 3",
   "language": "python",
   "name": "python3"
  },
  "language_info": {
   "codemirror_mode": {
    "name": "ipython",
    "version": 3
   },
   "file_extension": ".py",
   "mimetype": "text/x-python",
   "name": "python",
   "nbconvert_exporter": "python",
   "pygments_lexer": "ipython3",
   "version": "3.10.7"
  },
  "orig_nbformat": 4,
  "vscode": {
   "interpreter": {
    "hash": "31671a60cee805c34c73116577b485118ff3a75c458d3004d49632c19702ac60"
   }
  }
 },
 "nbformat": 4,
 "nbformat_minor": 2
}
